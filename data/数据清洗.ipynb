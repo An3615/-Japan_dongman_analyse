{
 "cells": [
  {
   "cell_type": "code",
   "execution_count": 62,
   "id": "8d7755ab-ff39-4b99-9bd7-0873f6166676",
   "metadata": {},
   "outputs": [
    {
     "data": {
      "text/plain": [
       "7092"
      ]
     },
     "execution_count": 62,
     "metadata": {},
     "output_type": "execute_result"
    }
   ],
   "source": [
    "import pandas as pd\n",
    "from sqlalchemy import create_engine\n",
    "\n",
    "data = pd.read_csv('raw1.csv')\n",
    "data = data.drop(columns=['标题链接']).drop_duplicates(subset='名称').dropna(subset=['ID', '评分'])\n",
    "\n",
    "# 处理字段1，提取类型年份、状态\n",
    "def f1(text_):\n",
    "    parts = text_.replace('，',',').replace(',·', '').split(',')\n",
    "    if '/' in parts[0] or len(parts)==4:\n",
    "        return {\n",
    "            \"类型\": parts[0].split(' / '),\n",
    "            \"年份\": parts[1],\n",
    "            \"状态\": parts[2]}\n",
    "    else: \n",
    "        return {\n",
    "            \"类型\": '未知',\n",
    "            \"年份\": parts[0],\n",
    "            \"状态\": parts[1]}\n",
    "data['字段1'] = data[\"字段1\"].str.replace(',·', '')\n",
    "d1 = data['字段1'].apply(f1).apply(pd.Series)\n",
    "d1['状态'] = d1['状态'].str.extract('(已完结|连载中)')[0]\n",
    "data = pd.concat([data, d1], axis=1)\n",
    "# 处理年份\n",
    "data['年份'] = data['年份'].astype(int)\n",
    "# 处理评分\n",
    "data['评分'] = data['评分'].apply(lambda a: a.replace('暂无评分', '0').replace('分', '')).astype(float)\n",
    "# 修正单位\n",
    "def f2(a):\n",
    "    a = str(a)\n",
    "    if '万' in a:\n",
    "        return int(float(a.replace('万', '')) * 1e4)\n",
    "    elif '亿' in a:\n",
    "        return int(float(a.replace('亿', '')) * 1e8)\n",
    "    else:\n",
    "        return int(a)\n",
    "for col in ['点赞', '投币', '收藏', '分享']:\n",
    "    data[col] = data[col].apply(f2)\n",
    "# 处理\"播放/弹幕/追番\"\n",
    "data['播放'] = data['播放/弹幕/追番'].str.extract(r'((?:\\d+(?:\\.\\d+)?)+[万亿]?)播放')[0].fillna(0).apply(f2)\n",
    "data['弹幕'] = data['播放/弹幕/追番'].str.extract(r'播放\\s*·\\s*((?:\\d+(?:\\.\\d+)?)+[万亿]?)弹幕')[0].fillna(0).apply(f2)\n",
    "data['追番'] = data['播放/弹幕/追番'].str.extract(r'弹幕\\s*·\\s*((?:\\d+(?:\\.\\d+)?)+[万亿]?)(?:系列)?追番')[0].fillna(0).apply(f2)\n",
    "\n",
    "# 类型分开存储\n",
    "category = data[['名称', '类型']].explode('类型')\n",
    "# 筛选\n",
    "data = data.drop(columns=['字段1', '播放/弹幕/追番', '类型'])\n",
    "data = data[(data['评分']>0) & (data['年份']>=2000)]\n",
    "\n",
    "# 存入mysql数据库\n",
    "username = 'root'\n",
    "password = '123456'\n",
    "host = 'localhost'\n",
    "my_db = 'my_db'\n",
    "engine = create_engine(f'mysql+pymysql://{username}:{password}@{host}/{my_db}')\n",
    "data.to_sql('dongman', engine, index=False, if_exists='replace')\n",
    "category.to_sql('dongman_cotegory', engine, index=False, if_exists='replace')"
   ]
  },
  {
   "cell_type": "code",
   "execution_count": null,
   "id": "5baf830a-ef59-40a9-8063-cd0061551f76",
   "metadata": {},
   "outputs": [],
   "source": []
  }
 ],
 "metadata": {
  "kernelspec": {
   "display_name": "Python 3 (ipykernel)",
   "language": "python",
   "name": "python3"
  },
  "language_info": {
   "codemirror_mode": {
    "name": "ipython",
    "version": 3
   },
   "file_extension": ".py",
   "mimetype": "text/x-python",
   "name": "python",
   "nbconvert_exporter": "python",
   "pygments_lexer": "ipython3",
   "version": "3.12.7"
  }
 },
 "nbformat": 4,
 "nbformat_minor": 5
}
